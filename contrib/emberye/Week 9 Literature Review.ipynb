{
 "cells": [
  {
   "cell_type": "markdown",
   "id": "0508271c-9225-4196-a505-595da4ca8cb1",
   "metadata": {},
   "source": [
    "# Week 9: Literature Review"
   ]
  },
  {
   "cell_type": "markdown",
   "id": "87a07294-7a08-43d0-8f9a-e7f2ca7e1f75",
   "metadata": {},
   "source": [
    "In their article “Vocational Training Costs and Economic Benefits: Exploring the Interactions,” Samoliuk, Bilan, and Mishchuk (2021) focus on identifying whether a positive relationship exists between vocational training costs and economic performance, rather than measuring the magnitude of that relationship. Their approach reflects an interest in the direction and consistency of the link—whether higher training costs are generally associated with higher economic outcomes such as GDP per capita—rather than in quantifying how much GDP increases per unit of cost. The authors note that previous research has already established the measurable economic benefits of training at the firm level, including increases in productivity, wages, and profitability. However, at the macroeconomic level, the connection between education-related investments and growth often produces inconsistent results due to cross-country differences in development and data comparability. For this reason, Samoliuk et al. employ a correlation-based approach (such as the Fechner correlation) that tests whether the relationship is systematically positive across countries, capturing the directional harmony of educational policy and economic outcomes rather than estimating causal strength or effect size. This allows them to generalize patterns of association in EU countries without overstating precision in cases where structural heterogeneity limits regression-based inference."
   ]
  },
  {
   "cell_type": "code",
   "execution_count": null,
   "id": "4f660183-a0ed-445f-8f7f-2d499ba8d3d0",
   "metadata": {},
   "outputs": [],
   "source": []
  },
  {
   "cell_type": "code",
   "execution_count": null,
   "id": "4f9f6384-cfa3-4b38-a9f1-4eca2585cf37",
   "metadata": {},
   "outputs": [],
   "source": []
  }
 ],
 "metadata": {
  "kernelspec": {
   "display_name": "econark",
   "language": "python",
   "name": "econark"
  },
  "language_info": {
   "codemirror_mode": {
    "name": "ipython",
    "version": 3
   },
   "file_extension": ".py",
   "mimetype": "text/x-python",
   "name": "python",
   "nbconvert_exporter": "python",
   "pygments_lexer": "ipython3",
   "version": "3.11.10"
  }
 },
 "nbformat": 4,
 "nbformat_minor": 5
}
