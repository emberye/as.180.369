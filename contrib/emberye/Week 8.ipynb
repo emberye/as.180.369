{
 "cells": [
  {
   "cell_type": "markdown",
   "id": "5fc17634-3810-415f-9a30-0a409a02acfb",
   "metadata": {},
   "source": [
    "# EUROSTAT Data Analysis"
   ]
  },
  {
   "cell_type": "markdown",
   "id": "a7621252-3576-4005-a633-1d0c938ebbd3",
   "metadata": {},
   "source": [
    "As I explore the dataset and start looking for existing research this week, I decided to follow some methods outlined in the paper 'Vocational training costs and economic benefits: Exploring the interactions' by Samoliuk, Natalia; Bilan, Yuriy; and Mishchuk, Halyna. The paper examines the economic benefits of vocational training costs (VTC) by focusing on several key questions. What is the impact of vocational training costs (VTC) on macroeconomic results? How do features of personnel training programs differ between profitable and unprofitable enterprises?\n",
    "What are the specifics of training and the efficiency of vocational training funds from the perspective of entrepreneurs and employees? To answer these questions, the study utilizes statistical data from Eurostat, specifically looking at indicators like vocational training costs per employee and GDP per capita from 2016. Additionally, surveys targeting entrepreneurs and employees provide further insights into the dynamics and effectiveness of vocational training costs. Methodologically, the research employs the Fechner correlation coefficient for relational estimation, facilitating the assessment of deviations from mean values and analyzing the homogeneity of impacts across different countries. Traditional statistical analysis combined with sociological research methods and graph-analytical approaches are also applied to process the data, ultimately aiming to elucidate the relationship between vocational training costs and economic performance alongside the effectiveness of training strategies within various enterprises."
   ]
  },
  {
   "cell_type": "code",
   "execution_count": null,
   "id": "c2844543-2ae1-46ca-b137-a9c1e52fb552",
   "metadata": {},
   "outputs": [],
   "source": []
  },
  {
   "cell_type": "code",
   "execution_count": null,
   "id": "2eac578a-e77e-426e-be40-b1aaeb8a7b3a",
   "metadata": {},
   "outputs": [],
   "source": []
  }
 ],
 "metadata": {
  "kernelspec": {
   "display_name": "econark",
   "language": "python",
   "name": "econark"
  },
  "language_info": {
   "codemirror_mode": {
    "name": "ipython",
    "version": 3
   },
   "file_extension": ".py",
   "mimetype": "text/x-python",
   "name": "python",
   "nbconvert_exporter": "python",
   "pygments_lexer": "ipython3",
   "version": "3.11.10"
  }
 },
 "nbformat": 4,
 "nbformat_minor": 5
}
