{
 "cells": [
  {
   "cell_type": "markdown",
   "id": "e7a5d29b-2ec5-403a-9e7f-41bd49dd9fa4",
   "metadata": {},
   "source": [
    "# EUROSTAT Data Analysis"
   ]
  },
  {
   "cell_type": "markdown",
   "id": "408fc0db-ace7-4985-995d-0c1ba8e05c6d",
   "metadata": {},
   "source": []
  },
  {
   "cell_type": "markdown",
   "id": "e274ade6-450c-4b73-9335-ef1fb79a2c90",
   "metadata": {},
   "source": [
    "As I explore the dataset and start looking for existing research this week, I decided to follow some methods outlined in the paper 'Vocational training costs and economic benefits: Exploring the interactions' by Samoliuk, Natalia; Bilan, Yuriy; and Mishchuk, Halyna. The paper examines the economic benefits of vocational training costs (VTC) by focusing on several key questions. the impact of VTC on macroeconomic results, differences in personnel training programs between profitable and unprofitable enterprises, and the specifics of training and the efficiency of vocational training funds as perceived by entrepreneurs and employees. To answer these questions, the study utilizes statistical data from Eurostat, specifically looking at indicators like vocational training costs per employee and GDP per capita from 2016. Additionally, surveys targeting entrepreneurs and employees provide further insights into the dynamics and effectiveness of vocational training costs. Methodologically, the research employs the Fechner correlation coefficient for relational estimation, facilitating the assessment of deviations from mean values and analyzing the homogeneity of impacts across different countries. Traditional statistical analysis combined with sociological research methods and graph-analytical approaches are also applied to process the data, ultimately aiming to elucidate the relationship between vocational training costs and economic performance alongside the effectiveness of training strategies within various enterprises."
   ]
  },
  {
   "cell_type": "code",
   "execution_count": null,
   "id": "c2844543-2ae1-46ca-b137-a9c1e52fb552",
   "metadata": {},
   "outputs": [],
   "source": []
  }
 ],
 "metadata": {
  "kernelspec": {
   "display_name": "econark",
   "language": "python",
   "name": "econark"
  },
  "language_info": {
   "codemirror_mode": {
    "name": "ipython",
    "version": 3
   },
   "file_extension": ".py",
   "mimetype": "text/x-python",
   "name": "python",
   "nbconvert_exporter": "python",
   "pygments_lexer": "ipython3",
   "version": "3.11.10"
  }
 },
 "nbformat": 4,
 "nbformat_minor": 5
}
